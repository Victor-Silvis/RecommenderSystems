{
 "cells": [
  {
   "cell_type": "markdown",
   "metadata": {},
   "source": [
    "## <h1> **`Singular Value Decomposition`** </h1>  \n",
    "  \n",
    "This notebook contains two versions of a SVD based recommender system. The first one is the normal SVD, which uses matrix factorization to predict ratings. And secondly a SVD++ system is made, which also takes in user and item biases. Both systems will be compared in this notebook. Finally the analysis of both recommender system is done using both the Movielens and Netflix datasets.\n",
    "  \n",
    "**Contents**\n",
    "1) Introduction\n",
    "2) SVD\n",
    "3) SVD Evaluation (Netflix & Movielens)\n",
    "4) SVD++\n",
    "5) SVD++ Evaluation (Netflix & Movielens)\n",
    "6) Final Conclusion\n",
    "  \n",
    "Datasets: MovieLens, Netflix"
   ]
  },
  {
   "cell_type": "markdown",
   "metadata": {},
   "source": [
    "------------------------------"
   ]
  },
  {
   "cell_type": "markdown",
   "metadata": {},
   "source": [
    "#### **Introduction**"
   ]
  },
  {
   "cell_type": "markdown",
   "metadata": {},
   "source": [
    "On October 2nd, 2006 Netflix began a contest to find a more accurate movie recommendation system to replace their current system. They promised a prize of of one million dollors to anyone who could improve over their old system with at least 10% Root Mean Squared error (RSME). After three years of the contents, the grand prize was awarded to a team using Singular Value Decomposition. In this notebook we will dive into SVD and SVD++ and we will evaluate the performances. \n",
    "\n",
    "But what is SVD?\n",
    "SVD decomposes a matrix into three other matricces, which when multiplied together, reconstruct the original matrix. These three matrices are:\n",
    "\n",
    "1) U: left singular vectors matrix\n",
    "This represents the relationship between the rows of the original matrix. The columns are perpendicular to each other and have a length of 1. U is of dimension MxM, where m is the number of rows in the original matrix. \n",
    "\n",
    "2) Σ (sigma): diagonal matrix of singular values\n",
    "This is a diagonal matrix containing the singular values of the original matrix. Σ is of dimension MxN, where M is the number of rows and N is the number of columns in the original matrix.\n",
    "\n",
    "3) V^T (the transpose of V): right singular vectors matrix\n",
    "This is the transpose of the matrix V, which represents the relationship between the columns of the original matrix. This matrix is of dimension N x N, where N is the number of columns in the original matrix. \n",
    "\n",
    "In this notebook we also use SVD++. This is an extension of the SVD method. While SVD focuses solely on decomposing the user-item interaction matrix and making predictions based on that decomposition, SVD++ incorporates additional information into the model to enhance its accuracy, in this case SVD++ takes into account implicit feedback. \n",
    "\n",
    "In the context of recommender systems, SVD can be applied to the user-item interaction matrix. This matrix represents user's ratings or preferences for different movies. The goal is to suggest a movie that users are likely to be interested in. This is what we will be doing in this notebook using SVD and SVD++. "
   ]
  },
  {
   "cell_type": "markdown",
   "metadata": {},
   "source": [
    "-----------------------"
   ]
  },
  {
   "cell_type": "markdown",
   "metadata": {},
   "source": [
    "##### **Import packages**"
   ]
  },
  {
   "cell_type": "code",
   "execution_count": 1,
   "metadata": {},
   "outputs": [],
   "source": [
    "#packages\n",
    "import pandas as pd\n",
    "import numpy as np\n",
    "from scipy.linalg import sqrtm\n",
    "from sklearn.model_selection import train_test_split, KFold\n",
    "from sklearn.metrics import mean_squared_error"
   ]
  },
  {
   "cell_type": "markdown",
   "metadata": {},
   "source": [
    "--------------------"
   ]
  },
  {
   "cell_type": "markdown",
   "metadata": {},
   "source": [
    "##### **Load and prepare data**"
   ]
  },
  {
   "cell_type": "code",
   "execution_count": 2,
   "metadata": {},
   "outputs": [],
   "source": [
    "#Data Movielens (~100.000 Rows)\n",
    "ratings_ml = pd.read_csv('../Data/Movielens/ratings.csv')\n",
    "movies_ml = pd.read_csv('../Data/Movielens/movies.csv')\n",
    "ratings_ml.columns = ['user_id', 'movie_id', 'rating', 'timestamp']\n",
    "\n",
    "#Data Netflix (~400.000 rows)\n",
    "ratings_nf = pd.read_parquet('../Data/Netflix/NetflixSample.gzip')\n",
    "ratings_nf[['user_id','movie_id']] = ratings_nf[['user_id','movie_id']].astype(int)\n",
    "movies_nf = pd.read_parquet('../Data/Netflix/Netflix_movies.gzip')"
   ]
  },
  {
   "cell_type": "code",
   "execution_count": 3,
   "metadata": {},
   "outputs": [],
   "source": [
    "#Split the data into train test data for movielens\n",
    "train_data_ml, test_data_ml = train_test_split(ratings_ml, test_size=0.2, random_state=42)\n",
    "\n",
    "#Split the data into train test data for Netflix\n",
    "train_data_nf, test_data_nf = train_test_split(ratings_nf, test_size=0.2, random_state=42)"
   ]
  },
  {
   "cell_type": "code",
   "execution_count": 4,
   "metadata": {},
   "outputs": [],
   "source": [
    "#Create a helper dictonary, for demonstration later on\n",
    "title_dict = dict(zip(movies_ml['movieId'], movies_ml['title']))"
   ]
  },
  {
   "cell_type": "markdown",
   "metadata": {},
   "source": [
    "-------------------------"
   ]
  },
  {
   "cell_type": "markdown",
   "metadata": {},
   "source": [
    "# **Part 1: SVD**"
   ]
  },
  {
   "cell_type": "markdown",
   "metadata": {},
   "source": [
    "##### **Explanation**"
   ]
  },
  {
   "cell_type": "markdown",
   "metadata": {},
   "source": [
    "Now we will break down the structure of the code of the SVD recommender system: \n",
    "\n",
    "1. ``__init__()``:\n",
    "This function inializes the SVD class. It takes three arugments: userField, itemField, and valueField, whcih represent the names of the columns in the dataset containing user Ids, item Ids, and ratings.\n",
    "\n",
    "2. ``create_matrix()``:\n",
    "This function creates a utitility matrix from the input data. Like explained before, this represents the relationship between the rows of the original matrix. It pivots the data to create a user-item interaction matrix using Pandas' pivot() function.\n",
    "It creates mappings beteen between user IDs and indices, and item indices and IDs. After that this function handles missing values (NaNs) by replacing them with the mean rating of each item. At last, it substract the mean rating of each item from the corresponding entries in the matrix to center the data around zero.\n",
    "\n",
    "3. ``fit_svd()``:\n",
    "This function performs SVD on the centered utility matrix. It calculates the SVD of the matrix using NumPy's linalg.svd() fucntion. Then it selects the top k singular values and corresponding vectors to reduce the dimensionallity of the matrices. It builds the matrix using the reduced matrices and adds back the mean ratings of items to make the final predicted ratings.\n",
    "\n",
    "4. ``recommend()``:\n",
    "This function generates the recommendations for a list of users. It gets the predicted ratings for each user-item pair from the reconstructed matrix. Then it sort the items back on predicted ratings and returns the top N recommendations for each user.\n"
   ]
  },
  {
   "cell_type": "markdown",
   "metadata": {},
   "source": [
    "##### **Recommender System**"
   ]
  },
  {
   "cell_type": "code",
   "execution_count": 8,
   "metadata": {},
   "outputs": [],
   "source": [
    "class SVD:\n",
    "\n",
    "    def __init__(self, userField, itemField, valueField):\n",
    "        self.param = {}\n",
    "        self.userField = userField\n",
    "        self.itemField = itemField\n",
    "        self.valueField = valueField\n",
    "        self.set_k()\n",
    "\n",
    "    ''' \n",
    "    args for SVD Recommender:\n",
    "    userField   : The name of the column that contains user_id's\n",
    "    itemField   : The name of the column that contains item_id's\n",
    "    valueField  : the name of the column that contains the values (ratings)\n",
    "    '''\n",
    "    def set_k(self, k=20):\n",
    "        self.k = k\n",
    "\n",
    "    def create_matrix(self, data):\n",
    "        #Create a utility matrix\n",
    "        utility_matrix = data.pivot(index=self.userField, \n",
    "                                    columns=self.itemField,\n",
    "                                    values=self.valueField)\n",
    "        #Create mapping\n",
    "        N = data[self.userField].nunique()\n",
    "        M = data[self.itemField].nunique()\n",
    "        user_list = np.unique(data[self.userField])\n",
    "        item_list = np.unique(data[self.itemField])\n",
    "        self.user_to_index = dict(zip(user_list, range(0, N)))\n",
    "        self.index_to_item = dict(zip(range(0,M), item_list))\n",
    "\n",
    "        #Create Matrix Operations\n",
    "        '''In this section we create the matrix that will be used for the factorization. \n",
    "        We use a mask to identify and save the NaN locations in the matrix. We then reverse\n",
    "        that mask to give us the items the user has not rated before, which is used later on.\n",
    "        For normalization we take the mean of the items and subtract it from the ratings,\n",
    "        this centralises the ratings. Later on, after the SVD operation we add the mean back in.\n",
    "        '''\n",
    "        matrix_array = utility_matrix.values #To array\n",
    "        mask = np.isnan(matrix_array) #Get nan value mask True/False\n",
    "        masked_arr = np.ma.masked_array(matrix_array, mask) #mask based on True/False\n",
    "        self.predMask = ~mask #store the inverse of the mask for later recommendation (for what the user already has watched)\n",
    "        item_means = np.mean(masked_arr, axis=0) #get mean of each item\n",
    "        matrix = masked_arr.filled(item_means) #Replace NaN with item means\n",
    "        self.item_means_tiled = np.tile(item_means, (matrix.shape[0], 1)) #2D array storing means of all items, same size\n",
    "\n",
    "        #Remove the per item average from all entries, Nan will essentially be zero\n",
    "        self.matrix = matrix - self.item_means_tiled\n",
    "\n",
    "#SVD fit\n",
    "    def fit_svd(self, k = None):\n",
    "        if k is None:\n",
    "            k = self.k\n",
    "        #SVD magic, U and V are user and item features\n",
    "        U, s, V = np.linalg.svd(self.matrix, full_matrices=False)\n",
    "        s = np.diag(s)\n",
    "        #next we take only K most significant features\n",
    "        s = s[0:k,0:k] #Select the top K diagonal elements\n",
    "        U = U[:,0:k] #Keep the first K columns of U\n",
    "        V = V[0:k,:] #Keep the first K rows of V\n",
    "        s_root = sqrtm(s) #Compute the square root of the diagonal matrix s\n",
    "        Usk = np.dot(U, s_root) # Multiply U by the square root of s\n",
    "        skV = np.dot(s_root, V) # Multiply the square root of s by V\n",
    "        UsV = np.dot(Usk, skV) # Compute the reconstructed matrix UsV by multiplying Usk and skV\n",
    "        self.UsV = UsV + self.item_means_tiled #we add the means back in to get final predicted ratings\n",
    "        #UsV now ofcourse contains the final predicted ratings for each user-item combination\n",
    "    \n",
    "#Recommender   \n",
    "    def recommend(self, users_list, N=10, values=True):\n",
    "        # self.predmask is a mask that has True if already seen, This was a False for the Nan Mask just inversely stored\n",
    "        #predMat consists of items that are not yet discovered by the user, the ones that are, are set very low\n",
    "        predMat = np.ma.masked_where(self.predMask, self.UsV).filled(fill_value=-999)\n",
    "        recommendations = [] #init list in which recommendations will be stored\n",
    "\n",
    "        if values == True:\n",
    "            for user in users_list:\n",
    "                try:\n",
    "                    user_idx = self.user_to_index[user]\n",
    "                except:\n",
    "                    raise Exception(\"Invalid User: \", user)\n",
    "                top_indeces = predMat[user_idx,:].argsort()[-N:][::-1] #access entire row, sort on ratings, take N max, return indeces of columns(items)\n",
    "                recommendations.append([(user, self.index_to_item[index], predMat[user_idx, index]) for index in top_indeces])\n",
    "                #Above: Loop over top indeces for this user, retreive the rating for each index and store as tuple, in list\n",
    "\n",
    "        if values == False:\n",
    "            for user in users_list:\n",
    "                try:\n",
    "                    user_idx = self.user_to_index[user]\n",
    "                except:\n",
    "                    raise Exception(\"Invalid User:\", user)\n",
    "                top_indeces = predMat[user_idx,:].argsort()[-N:][::-1]\n",
    "                recommendations.append([self.index_to_item[index] for index in top_indeces])\n",
    "        \n",
    "        return recommendations\n",
    "    \n",
    "#Evaluator   \n",
    "    def evaluate(self, data, limit=0.5, prints=False):\n",
    "        # Function to evaluate the system. additionally, helper function to tuning\n",
    "        user_list = data[self.userField].unique() #get user list of input data\n",
    "        if limit is not None: #if limit is set, take a limit of the test data, else everything\n",
    "            user_list = user_list[:int(len(user_list) * limit)] #take portion if needed\n",
    "        if prints == True: #If True output the prints for information\n",
    "            print(len(user_list), f' : Users are going to be evaluted. {limit} of input data')\n",
    "        predictions, targets = [], [] #init two lists to store predictions and targets\n",
    "        N = data[self.itemField].nunique()-2 #predict rating for every movie, per user\n",
    "        for user in user_list: #loop through the list of users to evaluate\n",
    "            output = self.recommend([user], N=N, values=True) #get recommendations for user\n",
    "            for rec in output: #For every recommendation\n",
    "                for item in rec: # recommendation format (user, item_ID, Pred_rating )\n",
    "                    actual_rating = data[(data[self.userField] == item[0]) & (data[self.itemField] == item[1])][self.valueField].values\n",
    "                    if (actual_rating.size > 0 & (item[2] > 0)): #only evaluate if there is an actual rating, and a positive pred rating\n",
    "                        targets.append(actual_rating[0]) #store actual rating\n",
    "                        predictions.append(item[2]) #store predicted rating\n",
    "        rmse = np.sqrt(mean_squared_error(predictions, targets)) #calculate RMSE\n",
    "        if prints == True: #if True print the RMSE score\n",
    "            print('RMSE: ', round(rmse, 3))\n",
    "        else: # else output the rmse\n",
    "            return rmse \n",
    "        \n",
    "#Hyper-Tuner\n",
    "    def hypertune(self, data, k_values=None, k_folds=5, prints=True, limit=0.5):\n",
    "\n",
    "        '''args:\n",
    "        data = input data to perform hypertune on, normally the train_data\n",
    "        k_values = (list) list of k values to test for hypertune\n",
    "        k_folds = Number of folds to cross validate\n",
    "        Prints = Prints the output if set to True\n",
    "        '''\n",
    "        if k_values is None:\n",
    "            k_values = [15, 20, 25] #K's to test by default, unless there is a specific input\n",
    "        avg_rmse_dict = {} # Init Dict to store avg RMSE of each K\n",
    "        best_k_rmse = [0,100] #Init list to store best k and corresponding rmse\n",
    "\n",
    "        for k in k_values:\n",
    "            kf = KFold(n_splits=k_folds, shuffle=True) # Init K_fold split\n",
    "            rmse_scores = [] #store the rmse score for each fold\n",
    "            for train_index, val_index in kf.split(data):\n",
    "                train_data = data.iloc[train_index] #assign train data of fold\n",
    "                val_data = data.iloc[val_index] #assign validation dat of fold\n",
    "                self.create_matrix(train_data) #input train into svd\n",
    "                self.fit_svd(k=k) #fit the svd model with k \n",
    "                svd_rmse = self.evaluate(val_data, limit=limit, prints=False) #Evaluate the system, get RMSE. set prints to false, we dont need them \n",
    "                rmse_scores.append(svd_rmse) #add rmse to scores for this fold cross validation\n",
    "            avg_rmse = np.mean(rmse_scores) #calculate the rmse for this k features (overal folds)\n",
    "            avg_rmse_dict[k] = avg_rmse #save the rmse for this k, to a dictonary\n",
    "            if avg_rmse < best_k_rmse[1]: #update best parameter if rmse is better then current best\n",
    "                best_k_rmse = [k, avg_rmse] #update best parameter list\n",
    "                self.k = k #update best k\n",
    "\n",
    "        if prints == True: #if prints option is true print the outcome of hypertune\n",
    "            for k, avg_rmse in avg_rmse_dict.items():\n",
    "                print(f\"Average RMSE for k = {k} : {round(avg_rmse,3)} \")\n",
    "            print(f\"Best k is {best_k_rmse[0]}, with RMSE of {round(best_k_rmse[1],3)}\")"
   ]
  },
  {
   "cell_type": "markdown",
   "metadata": {},
   "source": [
    "##### **Example Usage**\n",
    "We will now show an example usage of the recommender, to give an indication of the type of recommendations it makes. in the next section we will evaluate it futher"
   ]
  },
  {
   "cell_type": "code",
   "execution_count": 7,
   "metadata": {},
   "outputs": [
    {
     "name": "stdout",
     "output_type": "stream",
     "text": [
      "Average RMSE for k = 15 : 0.947 \n",
      "Average RMSE for k = 20 : 0.952 \n",
      "Average RMSE for k = 25 : 0.976 \n",
      "Best k is 15, with RMSE of 0.947\n"
     ]
    }
   ],
   "source": [
    "#Init the SVD recommender by giving it the correct names of the field in the data\n",
    "svd = SVD('user_id', 'movie_id', 'rating')\n",
    "svd.create_matrix(train_data_ml)\n",
    "svd.fit_svd()\n",
    "\n",
    "#We hypertune the model on the traindata, we set a limit as its for demonstration at this point\n",
    "svd.hypertune(train_data_ml, limit=0.05, k_folds=2, prints=True)"
   ]
  },
  {
   "cell_type": "code",
   "execution_count": 22,
   "metadata": {},
   "outputs": [
    {
     "name": "stdout",
     "output_type": "stream",
     "text": [
      "Recommended Unseen Movies:\n",
      "Jackass 2.5 (2007)                                 5.0\n",
      "Benji the Hunted (1987)                            5.0\n",
      "Madame Sousatzka (1988)                            5.0\n",
      "Class, The (Klass) (2007)                          5.0\n",
      "My Life as a Dog (Mitt liv som hund) (1985)        5.0\n",
      "George Carlin: Jammin' in New York (1992)          5.0\n",
      "Miss Sloane (2016)                                 5.0\n",
      "No Way Out (1987)                                  5.0\n",
      "All the Vermeers in New York (1990)                5.0\n",
      "What Ever Happened to Baby Jane? (1962)            5.0\n"
     ]
    }
   ],
   "source": [
    "#As an example get some recommendations for user 6\n",
    "output = svd.recommend([6])\n",
    "\n",
    "print('Recommended Unseen Movies:')\n",
    "for _, item, rating in output[0][:10]:\n",
    "    movie = title_dict[item]\n",
    "    print(f'{movie}'.ljust(50), round(rating,2))"
   ]
  },
  {
   "cell_type": "markdown",
   "metadata": {},
   "source": [
    "##### **Evaluation SVD (Movielens / Netflix)**"
   ]
  },
  {
   "cell_type": "markdown",
   "metadata": {},
   "source": [
    "In this section we will evaluate the SVD recommender system on the movielens and netflix dataset, and compare results after. We use the evaluate function build into the recommender system for this. It compares the predicted ratings based on the train data with the actual ratings in the test data. It then calculates the RMSE between predicted and actual ratings."
   ]
  },
  {
   "cell_type": "code",
   "execution_count": 24,
   "metadata": {},
   "outputs": [
    {
     "name": "stdout",
     "output_type": "stream",
     "text": [
      "61  : Users are going to be evaluted. 0.1 of input data\n",
      "RMSE:  0.895\n"
     ]
    }
   ],
   "source": [
    "#Evaluate on the Movielens\n",
    "svd_movielens = SVD('user_id', 'movie_id', 'rating')\n",
    "svd_movielens.create_matrix(train_data_ml)\n",
    "svd_movielens.fit_svd()\n",
    "svd.hypertune(train_data_ml, limit=0.5, k_folds=5, prints=False)\n",
    "\n",
    "#Evaluate on Movie Lens Test Data\n",
    "svd_movielens.evaluate(test_data_ml, limit=0.1, prints=True)"
   ]
  },
  {
   "cell_type": "code",
   "execution_count": 36,
   "metadata": {},
   "outputs": [
    {
     "name": "stdout",
     "output_type": "stream",
     "text": [
      " 98 : Users are going to be evaluted. 0.05 of input data\n",
      "RMSE:  0.936\n"
     ]
    }
   ],
   "source": [
    "#Evaluate on the Netflix\n",
    "svd_netflix = SVD('user_id', 'movie_id', 'rating')\n",
    "svd_netflix.create_matrix(train_data_nf)\n",
    "svd_netflix.fit_svd()\n",
    "svd.hypertune(train_data_ml, limit=0.05, k_folds=5, prints=False)\n",
    "\n",
    "#Evaluate on Netfix Test data (smaller limit to have roughly same amount of users to test on)\n",
    "svd_netflix.evaluate(test_data_nf, limit=0.05, prints=True)"
   ]
  },
  {
   "cell_type": "markdown",
   "metadata": {},
   "source": [
    "**Findings:** The RMSE of the system on the movielens is 0.895, which is a good a result. This is not a surprise due the popularity of these system, and their presence in the top recommenders for Netflix. Based on the benchmarks set by suprise on their website as reference, their KNN gets a RMSE of 0.934 on the movielens. Which means our own made system is performing wel. The system performs slightly worse on the Netflix dataset with a RMSE of 0.936. In terms of performance the standard SVD is able to fit quite fast, around 1.1 seconds for the movielens and 8s for the netflix. We will take this as benchmark for when analysing the SVD++ system in the next section.\n"
   ]
  },
  {
   "cell_type": "markdown",
   "metadata": {},
   "source": [
    "----------------------------"
   ]
  },
  {
   "cell_type": "markdown",
   "metadata": {},
   "source": [
    "# **Part 2: SVD++**"
   ]
  },
  {
   "cell_type": "markdown",
   "metadata": {},
   "source": [
    "##### **Explanation**"
   ]
  },
  {
   "cell_type": "markdown",
   "metadata": {},
   "source": [
    "Now that we made a good performing SVD recommender system, we want to step it up by looking at SVD++. \n",
    "\n",
    "The code of the SVD++ is a little different from the SVD. We changed the following things in the code:\n",
    "1. Incorporating implicit feedback and additional biases for users and items.\n",
    "2. Using a different training alogirithm for optimization: Stochastic Gradient descent (SGD).\n",
    "3. Using implicit feedback like user engagement with items in addition to explicit ratings.\n",
    "4. Using additional regularization terms (reg_ui and reg_bi) for user and item biases (to prevent overfitting and improve generalization).\n",
    "5. Including a hyperparameter tuning method (hypertune()) by selecting the best combination of hyperparameters. This feature is not available in the basic SVD since there is only 1 hyperparameter. The default parameters are based on literature.\n"
   ]
  },
  {
   "cell_type": "markdown",
   "metadata": {},
   "source": [
    "##### **Explanation**"
   ]
  },
  {
   "cell_type": "code",
   "execution_count": 16,
   "metadata": {},
   "outputs": [],
   "source": [
    "class SVD_PP:\n",
    "\n",
    "    def __init__(self, userField, itemField, valueField):\n",
    "        self.params = {}\n",
    "        self.userField = userField\n",
    "        self.itemField = itemField\n",
    "        self.valueField = valueField\n",
    "        self.set_params()\n",
    "\n",
    "    ''' \n",
    "    args for SVD Recommender:\n",
    "    userField   : The name of the column that contains user_id's\n",
    "    itemField   : The name of the column that contains item_id's\n",
    "    valueField  : the name of the column that contains the values (ratings)\n",
    "    '''\n",
    "\n",
    "    #Helper function to init and set params\n",
    "    def set_params(self, k=2, lr=0.003, reg_all=0.5, reg_ui=0.05, reg_bi=0.05, n_epochs=50):\n",
    "        '''This function sets the initial hyper parameters. The default ones are mostly based\n",
    "        on literature. However, they get automatically updated after performing hyper\n",
    "        parameter tuning '''\n",
    "\n",
    "        self.params['k'] = k\n",
    "        self.params['lr'] = lr\n",
    "        self.params['reg_all'] = reg_all\n",
    "        self.params['reg_ui'] = reg_ui\n",
    "        self.params['reg_bi'] = reg_bi\n",
    "        self.params['n_epochs'] = n_epochs\n",
    "\n",
    "    def create_matrix(self, data):\n",
    "        '''This function creates mapping dictonaries to ensure, correct\n",
    "        access from id to index and vice versa. Both for users and items.\n",
    "        This is done as id's are not longer part of the data when it becomes\n",
    "        an array. Then its based on indices only.\n",
    "        '''\n",
    "        #Create a utility matrix\n",
    "        utility_matrix = data.pivot(index=self.userField, \n",
    "                                    columns=self.itemField,\n",
    "                                    values=self.valueField)\n",
    "        #Create mapping\n",
    "        N = data[self.userField].nunique()\n",
    "        M = data[self.itemField].nunique()\n",
    "        user_list = np.unique(data[self.userField])\n",
    "        item_list = np.unique(data[self.itemField])\n",
    "        self.user_to_index = dict(zip(user_list, range(0, N)))\n",
    "        self.index_to_item = dict(zip(range(0,M), item_list))\n",
    "\n",
    "        #Create Matrix Operations\n",
    "        '''In this section we create the matrix that will be used for the factorization. \n",
    "        We use a mask to identify and save the NaN locations in the matrix. We then reverse\n",
    "        that mask to give us the items the user has not rated before, which is used later on.\n",
    "        For normalization we take the mean of the items and subtract it from the ratings,\n",
    "        this centralises the ratings, the same process is used for the normal SVD. Later on, after\n",
    "        the SVD operation we add the mean back in.\n",
    "        '''\n",
    "\n",
    "        matrix_array = utility_matrix.values #To array\n",
    "        self.max_value = np.nanmax(matrix_array[(matrix_array != 0) & (~np.isnan(matrix_array))]) #get max value for later\n",
    "        self.min_value = np.nanmin(matrix_array[(matrix_array != 0) & (~np.isnan(matrix_array))]) #get min value for later\n",
    "        mask = np.isnan(matrix_array) #Get nan value mask True/False\n",
    "        masked_arr = np.ma.masked_array(matrix_array, mask) #mask based on True/False\n",
    "        self.predMask = ~mask #store the inverse of the mask for later recommendation (for what the user already has watched)\n",
    "        item_means = np.mean(masked_arr, axis=0) #get mean of each item\n",
    "        matrix = masked_arr.filled(0) #Replace NaN with 0 (instead of means as done with normal SVD)\n",
    "        self.item_means_tiled = np.tile(item_means, (matrix.shape[0], 1)) #2D array storing means of all items, same size\n",
    "\n",
    "        #Remove the per item average from all entries, Nan will essentially be zero\n",
    "        self.matrix = matrix - self.item_means_tiled\n",
    "\n",
    "#SVD fit\n",
    "    def sigmoid(self, x): #Sigmoid helper function for user and item biases.\n",
    "        return 1 / (1 + np.exp(-x))\n",
    "\n",
    "    def fit(self, k=None, lr=None, reg_all=None, reg_ui=None, reg_bi=None, n_epochs=None, get_params=True):\n",
    "        \n",
    "        if get_params == True: #Take the stored params and not the input\n",
    "            k = self.params['k']    \n",
    "            lr = self.params['lr']\n",
    "            reg_all = self.params['reg_all']\n",
    "            reg_ui = self.params['reg_ui']\n",
    "            reg_bi = self.params['reg_bi']\n",
    "            n_epochs = self.params['n_epochs']\n",
    "\n",
    "        num_users, num_items = self.matrix.shape # Get dimensions\n",
    "        U = np.random.normal(scale=1. / k, size=(num_users, k)) # Init user latent factor matrix\n",
    "        V = np.random.normal(scale=1. / k, size=(num_items, k)) # init item latent factor matrix\n",
    "        bu = np.zeros(num_users) # Initialize user bias to zero\n",
    "        bi = np.zeros(num_items) # Initialize item bias to zero\n",
    "        mu = np.mean(self.matrix[np.where(self.matrix != 0)]) #Calc global mean\n",
    "\n",
    "        for epoch in range(n_epochs): #Iterate over epochs\n",
    "            for i in range(num_users): #Iterate over users\n",
    "                \n",
    "                ''' The error computation, bias and latent feature updates are vectorized,\n",
    "                this fits the model 8 times faster then explicitly looping over users and items.\n",
    "                Operations are calculated on entire matrices, which is more efficient, while maintaining\n",
    "                the same RMSE results '''\n",
    "\n",
    "                idx_items_rated_by_user = np.where(self.matrix[i, :] > 0)[0] # Select non zero indices\n",
    "                if len(idx_items_rated_by_user) == 0:\n",
    "                    continue  # Skip if the user hasn't rated any items\n",
    "                U_i = U[i, :] # Extract latent factors \n",
    "                bu_i = bu[i] # Extract biases\n",
    "                for j in idx_items_rated_by_user:\n",
    "                    V_j = V[j, :] # Extract for current item\n",
    "                    bi_j = bi[j] # Extract for current item\n",
    "                    prediction = mu + self.sigmoid(bu_i) + self.sigmoid(bi_j) + np.dot(U_i, V_j) #Calc predictions Vectorized\n",
    "                    eij = self.matrix[i, j] - prediction # Error computation vectorized\n",
    "\n",
    "                    # Update biases and latent factors\n",
    "                    bu[i] += lr * (eij - reg_all * self.sigmoid(bu_i) - reg_ui * bu_i) # Vectorized bias update for user\n",
    "                    bi[j] += lr * (eij - reg_all * self.sigmoid(bi_j) - reg_bi * bi_j) # Vectorized bias update for item\n",
    "                    U[i, :] += lr * (eij * V_j - reg_all * U_i) # Vectorized latent factor update for user\n",
    "                    V[j, :] += lr * (eij * U_i - reg_all * V_j) # Vectorized latent factor update for item\n",
    "\n",
    "        # Reconstruct ratings matrix\n",
    "        '''Here we recompose the matrix again, but this time we add the item and user\n",
    "        biases on top the the factorized matrix.\n",
    "        '''          \n",
    "        bu_matrix = np.tile(bu, (num_items, 1)).T\n",
    "        bi_matrix = np.tile(bi, (num_users, 1)) \n",
    "        ratings_matrix = mu + self.sigmoid(bu_matrix) + self.sigmoid(bi_matrix) + np.dot(U, V.T) # Vectorized reconstruction of ratings matrix\n",
    "        self.prediction_ratings = ratings_matrix + self.item_means_tiled # Add means back in for final predictions\n",
    "        self.prediction_ratings = np.clip(self.prediction_ratings, self.min_value, self.max_value)\n",
    "\n",
    "  #Recommender   \n",
    "    def recommend(self, users_list, N=10, values=True):\n",
    "        # self.predmask is a mask that has True if already seen, This was a False for the Nan Mask just inversely stored\n",
    "        #predMat consists of items that are not yet discovered by the user, the ones that are, are set very low\n",
    "        predMat = np.ma.masked_where(self.predMask, self.prediction_ratings).filled(fill_value=-999)\n",
    "        recommendations = [] #init list in which recommendations will be stored\n",
    "\n",
    "        if values == True:\n",
    "            for user in users_list:\n",
    "                try:\n",
    "                    user_idx = self.user_to_index[user]\n",
    "                except:\n",
    "                    raise Exception(\"Invalid User: \", user)\n",
    "                top_indeces = predMat[user_idx,:].argsort()[-N:][::-1] #access entire row, sort on ratings, take N max, return indeces of columns(items)\n",
    "                recommendations.append([(user, self.index_to_item[index], predMat[user_idx, index]) for index in top_indeces])\n",
    "                #Above: Loop over top indeces for this user, retreive the rating for each index and store as tuple, in list\n",
    "\n",
    "        if values == False:\n",
    "            for user in users_list:\n",
    "                try:\n",
    "                    user_idx = self.user_to_index[user]\n",
    "                except:\n",
    "                    raise Exception(\"Invalid User:\", user)\n",
    "                top_indeces = predMat[user_idx,:].argsort()[-N:][::-1]\n",
    "                recommendations.append([self.index_to_item[index] for index in top_indeces])\n",
    "        \n",
    "        return recommendations\n",
    "    \n",
    "#Evaluator   \n",
    "    def evaluate(self, data, limit=None, N=100, prints=False):\n",
    "        # Function to evaluate the system. additionally, helper function to tuning\n",
    "        user_list = data[self.userField].unique() #get user list of input data\n",
    "        if limit is not None: #if limit is set, take a limit of the test data, else everything\n",
    "            user_list = user_list[:int(len(user_list) * limit)] #take portion if needed\n",
    "        if prints == True: #If True output the prints for information\n",
    "            print(len(user_list), f' : Users are going to be evaluted. {limit} of input data')\n",
    "        predictions, targets = [], [] #init two lists to store predictions and targets\n",
    "        N = data[self.itemField].nunique()-2 #predict rating for every movie, per user\n",
    "        for user in user_list: #loop through the list of users to evaluate\n",
    "            output = self.recommend([user], N=N, values=True) #get recommendations for user\n",
    "            for rec in output: #For every recommendation\n",
    "                for item in rec: # recommendation format (user, item_ID, Pred_rating )\n",
    "                    actual_rating = data[(data[self.userField] == item[0]) & (data[self.itemField] == item[1])][self.valueField].values\n",
    "                    if (actual_rating.size > 0 & (item[2] > 0)): #only evaluate if there is an actual rating, and a positive pred rating\n",
    "                        targets.append(actual_rating[0]) #store actual rating\n",
    "                        predictions.append(item[2]) #store predicted rating\n",
    "        rmse = np.sqrt(mean_squared_error(predictions, targets)) #calculate RMSE #add failsafe for when pred or targ is 0\n",
    "        if prints == True: #if True print the RMSE score\n",
    "            print('RMSE: ', round(rmse, 3))\n",
    "        else: # else output the rmse\n",
    "            return rmse \n",
    "        \n",
    "#Hyper-Tuner\n",
    "\n",
    "    def hypertune(self, data, input=None, k_folds=5, prints=True, limit=0.5):\n",
    "            \n",
    "        \"\"\"\n",
    "        Tunes hyperparameters for the SVD++ model using grid search (default).\n",
    "\n",
    "        Args:\n",
    "            data (object): Training data in a suitable format for the SVD++ model.\n",
    "            input (dict, optional): Dictionary containing hyperparameters to tune.\n",
    "            k_folds (optional): Number of folds for cross-validation. Defaults to 5.\n",
    "            prints (optional): Whether to print hyperparameter evaluation results. Defaults to True.\n",
    "            limit (optional): Limit the test size for faster hypertune.\n",
    "\n",
    "        Returns:\n",
    "            dict: Best hyperparameter configuration and corresponding performance metric.\n",
    "        \"\"\"\n",
    "\n",
    "        if input is None:\n",
    "            k_values = [3,5,10]\n",
    "            lr_values = [0.05]\n",
    "            reg_all_values =  [0.1]\n",
    "            reg_ui_values = [0.05]\n",
    "            reg_bi_values = [0.05]\n",
    "            n_epochs_values = [20,30,50]\n",
    "                \n",
    "        avg_rmse_list = [] # Init Dict to store avg RMSE of each K\n",
    "        best_rmse = 999 #Init to store best k and corresponding rmse\n",
    "\n",
    "        for k in k_values:\n",
    "            for lr in lr_values:\n",
    "                for reg_all in reg_all_values:\n",
    "                    for reg_ui in reg_ui_values:\n",
    "                        for reg_bi in reg_bi_values:\n",
    "                            for n_epochs in n_epochs_values:\n",
    "                                rmse_scores = [] #list to store the rmse score of each fold\n",
    "\n",
    "                                #Initialize KFold object inside the loop\n",
    "                                kf = KFold(n_splits=k_folds, shuffle=True)\n",
    "\n",
    "                                for train_index, val_index in kf.split(data):\n",
    "                                    train_data = data.iloc[train_index]  # Assign train data of fold\n",
    "                                    val_data = data.iloc[val_index]  # Assign validation data of fold\n",
    "\n",
    "                                    # Create and fit the SVD++ model with current hyperparameters\n",
    "                                    self.create_matrix(train_data)  # Input train into SVD++\n",
    "                                    self.fit(k=k, lr=lr, reg_all=reg_all, reg_ui=reg_ui, reg_bi=reg_bi, n_epochs=n_epochs,get_params=False)\n",
    "\n",
    "                                    rmse = self.evaluate(val_data, limit=limit, prints=False)  # Evaluate, set prints to false\n",
    "                                    rmse_scores.append(rmse)\n",
    "\n",
    "                                avg_rmse = np.mean(rmse_scores)  # Calculate avg score for all folds, for this hyper combination\n",
    "                                avg_rmse_list.append(avg_rmse)\n",
    "\n",
    "                                # Update best parameters if RMSE is better\n",
    "                                if avg_rmse < best_rmse:\n",
    "                                    best_rmse = avg_rmse\n",
    "                                    best_params = {'k': k, 'learning_rate': lr, 'reg_all': reg_all,\n",
    "                                                'reg_ui':reg_ui, 'reg_bi':reg_bi, 'n_epochs':n_epochs}\n",
    "                                    self.params = {'k': k, 'lr': lr, 'reg_all': reg_all,\n",
    "                                                'reg_ui':reg_ui, 'reg_bi':reg_bi, 'n_epochs':n_epochs}\n",
    "        \n",
    "        if prints == True:\n",
    "            print(f\"Best RMSE: {round(best_rmse,3)}\")\n",
    "            print(\"Best Parameters:\")\n",
    "            for param, value in best_params.items():\n",
    "                print(f\"{param}: {value}\")\n"
   ]
  },
  {
   "cell_type": "markdown",
   "metadata": {},
   "source": [
    "##### **Example Usage Hypertuning**"
   ]
  },
  {
   "cell_type": "markdown",
   "metadata": {},
   "source": [
    "As with the normal SVD, this system is able to give recommendations for a particular user. This will be shown in the example usage below, in which we show the functionality of the system, hypertune it, and get recommendations for the user. Just as with the normal svd we do this on the movielens data for demonstration. the next section will evaluate the accuracy of the system on both datasets."
   ]
  },
  {
   "cell_type": "code",
   "execution_count": 6,
   "metadata": {},
   "outputs": [
    {
     "name": "stdout",
     "output_type": "stream",
     "text": [
      "Best RMSE: 1.207\n",
      "Best Parameters:\n",
      "k: 3\n",
      "learning_rate: 0.05\n",
      "reg_all: 0.1\n",
      "reg_ui: 0.05\n",
      "reg_bi: 0.05\n",
      "n_epochs: 50\n"
     ]
    }
   ],
   "source": [
    "#init the system\n",
    "svd_pp = SVD_PP('user_id', 'movie_id', 'rating')\n",
    "svd_pp.create_matrix(train_data_ml)\n",
    "svd_pp.fit()\n",
    "\n",
    "#hypertune the system\n",
    "svd_pp.hypertune(train_data_ml, limit=0.05, k_folds=2, prints=True)"
   ]
  },
  {
   "cell_type": "code",
   "execution_count": 8,
   "metadata": {},
   "outputs": [
    {
     "name": "stdout",
     "output_type": "stream",
     "text": [
      "Recommended Unseen Movies:\n",
      "Strictly Sexual (2008)                             4.93\n",
      "00 Schneider - Jagd auf Nihil Baxter (1994)        4.78\n",
      "12 Chairs (1976)                                   4.77\n",
      "Junior and Karlson (1968)                          4.61\n",
      "Shaft (1971)                                       4.6\n",
      "Palindromes (2004)                                 4.6\n",
      "Godfather, The (1972)                              4.58\n",
      "Tickling Giants (2017)                             4.58\n",
      "Raiders of the Lost Ark (Indiana Jones and the Raiders of the Lost Ark) (1981) 4.56\n",
      "The Eye: Infinity (2005)                           4.55\n"
     ]
    }
   ],
   "source": [
    "#As an example get some recommendations for user 6\n",
    "output = svd_pp.recommend([6])\n",
    "\n",
    "print('Recommended Unseen Movies:')\n",
    "for _, item, rating in output[0][:10]:\n",
    "    movie = title_dict[item]\n",
    "    print(f'{movie}'.ljust(50), round(rating,2))"
   ]
  },
  {
   "cell_type": "markdown",
   "metadata": {},
   "source": [
    "##### **Evaluation SVD++ (Movielens / Netflix)**"
   ]
  },
  {
   "cell_type": "markdown",
   "metadata": {},
   "source": [
    "In this section we will evaluate the SVD++ recommender system on the movielens and netflix dataset, and compare results after. We use the evaluate function build into the recommender system for this. It compares the predicted ratings based on the train data with the actual ratings in the test data. It then calculates the RMSE between predicted and actual ratings."
   ]
  },
  {
   "cell_type": "code",
   "execution_count": 11,
   "metadata": {},
   "outputs": [
    {
     "name": "stdout",
     "output_type": "stream",
     "text": [
      "61  : Users are going to be evaluted. 0.1 of input data\n",
      "RMSE:  0.946\n"
     ]
    }
   ],
   "source": [
    "#Evaluate on the Movielens\n",
    "svd_pp_movielens = SVD_PP('user_id', 'movie_id', 'rating')\n",
    "svd_pp_movielens.create_matrix(train_data_ml)\n",
    "svd_pp_movielens.fit()\n",
    "svd_pp_movielens.hypertune(train_data_ml, limit=0.5, k_folds=5, prints=False)\n",
    "\n",
    "#Evaluate on Movie Lens Test Data\n",
    "svd_pp_movielens.evaluate(test_data_ml, limit=0.1, prints=True)"
   ]
  },
  {
   "cell_type": "code",
   "execution_count": 15,
   "metadata": {},
   "outputs": [
    {
     "name": "stdout",
     "output_type": "stream",
     "text": [
      "98 : Users are going to be evaluted. 0.05 of input data\n",
      "RMSE:  0.994\n"
     ]
    }
   ],
   "source": [
    "#Evaluate on the Movielens\n",
    "svd_pp_netflix = SVD_PP('user_id', 'movie_id', 'rating')\n",
    "svd_pp_netflix.create_matrix(train_data_nf)\n",
    "svd_pp_netflix.fit()\n",
    "svd_pp_movielens.hypertune(train_data_ml, limit=0.5, k_folds=5, prints=False)\n",
    "\n",
    "#Evaluate on Movie Lens Test Data\n",
    "svd_pp_netflix.evaluate(test_data_nf, limit=0.05, prints=True)"
   ]
  },
  {
   "cell_type": "markdown",
   "metadata": {},
   "source": [
    "**Findings:** To our suprise the SVD++ system performs a bit worse then the normal SVD system. However, we should note that not a very wide range of possible hyper tune combinations was used, and it was also done on a limited data, due to computational and time constraints. This will most likely improve the system further.However, this could also be viewed as a benefit of using the normal SVD as training and hypertuning the model takes less resources. The fitting of the SVD++ model also takes longer, due to the gradient descent. Both models once trained are very fast, and capable of seemingly instantly giving recommendations for both datasets for a user. The SVD++ besides from proper hyperparameter tuning, could be further improved by incorperating the timestamp, making it a timesvd++ model."
   ]
  },
  {
   "cell_type": "markdown",
   "metadata": {},
   "source": [
    "------------------------------"
   ]
  },
  {
   "cell_type": "markdown",
   "metadata": {},
   "source": [
    "#### **Conclusion**"
   ]
  },
  {
   "cell_type": "markdown",
   "metadata": {},
   "source": [
    "We can conclude that the SVD on the MovieLens dataset performs best with an RMSE of 0.9. This is unexpected since we thought that the SVD++ would perform better than the normal SVD, since it incorporates more information to make the recommendation. Another reason could be that the complexity introduced to the additional parameters in SVD++ could lead to overfitting. This is particularly the case in scenarios with limited data. This could have led to the SVD++ performing less than the SVD. "
   ]
  },
  {
   "cell_type": "code",
   "execution_count": 21,
   "metadata": {},
   "outputs": [
    {
     "data": {
      "image/png": "[encoded data removed]",
      "text/plain": [
       "<Figure size 800x600 with 1 Axes>"
      ]
     },
     "metadata": {},
     "output_type": "display_data"
    }
   ],
   "source": [
    "import matplotlib.pyplot as plt\n",
    "\n",
    "# RMSE values for SVD and SVD++\n",
    "svd_rmse_ml = 0.895  \n",
    "svd_rmse_nf = 0.936\n",
    "svd_pp_rmse_ml = 0.946\n",
    "svd_pp_rmse_nf = 0.994  \n",
    "\n",
    "# Names of the models\n",
    "models = ['SVD ML', 'SVD NF', 'SVD++ ML', 'SVD++ NF']\n",
    "\n",
    "# RMSE values\n",
    "rmse_values = [svd_rmse_ml, svd_rmse_nf,svd_pp_rmse_ml,svd_pp_rmse_nf]\n",
    "\n",
    "# Create bar plot\n",
    "plt.figure(figsize=(8, 6))\n",
    "plt.bar(models, rmse_values, color=['orange', 'red'])\n",
    "plt.title('RMSE SVD and SVD++ for movielens and netflix')\n",
    "plt.xlabel('Models')\n",
    "plt.ylabel('RMSE')\n",
    "plt.ylim(0, max(rmse_values) + 0.1)  # Adjust ylim for better visualization\n",
    "plt.grid(axis='y', linestyle='--', alpha=0.7)\n",
    "plt.show()\n"
   ]
  }
 ],
 "metadata": {
  "kernelspec": {
   "display_name": "base",
   "language": "python",
   "name": "python3"
  },
  "language_info": {
   "codemirror_mode": {
    "name": "ipython",
    "version": 3
   },
   "file_extension": ".py",
   "mimetype": "text/x-python",
   "name": "python",
   "nbconvert_exporter": "python",
   "pygments_lexer": "ipython3",
   "version": "3.11.9"
  },
  "orig_nbformat": 4
 },
 "nbformat": 4,
 "nbformat_minor": 2
}
